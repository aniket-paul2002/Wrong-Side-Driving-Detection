{
 "cells": [
  {
   "cell_type": "code",
   "execution_count": 7,
   "id": "b375398b",
   "metadata": {},
   "outputs": [
    {
     "name": "stdout",
     "output_type": "stream",
     "text": [
      "Accuracy: 0.775\n",
      "Precision: 0.6571428571428571\n",
      "Recall: 0.7931034482758621\n",
      "F1-score: 0.71875\n"
     ]
    },
    {
     "data": {
      "image/png": "[encoded data removed]",
      "text/plain": [
       "<Figure size 640x480 with 1 Axes>"
      ]
     },
     "metadata": {},
     "output_type": "display_data"
    }
   ],
   "source": [
    "# Step 1: Load the data from CSV file into a pandas DataFrame\n",
    "import pandas as pd\n",
    "\n",
    "data = pd.read_csv('merged_data.csv')\n",
    "\n",
    "# Step 2: Split the data into training and testing sets\n",
    "from sklearn.model_selection import train_test_split\n",
    "\n",
    "X = data[['Longitude', 'Latitude', 'Direction']]\n",
    "y = data['Wrong side']\n",
    "\n",
    "X_train, X_test, y_train, y_test = train_test_split(X, y, test_size=0.2, random_state=42)\n",
    "\n",
    "# Step 3 and 4: Create feature matrix and label vectors\n",
    "from sklearn.preprocessing import StandardScaler\n",
    "\n",
    "scaler = StandardScaler()\n",
    "X_train_scaled = scaler.fit_transform(X_train)\n",
    "X_test_scaled = scaler.transform(X_test)\n",
    "\n",
    "# Step 5: Train a Random Forest Classifier model using RandomForestClassifier from sklearn\n",
    "from sklearn.ensemble import RandomForestClassifier\n",
    "\n",
    "rfc = RandomForestClassifier(n_estimators=100, random_state=42)\n",
    "rfc.fit(X_train_scaled, y_train)\n",
    "\n",
    "# Step 6: Evaluate the model on the test set and calculate accuracy, precision, recall, and F1-score\n",
    "from sklearn.metrics import accuracy_score, precision_score, recall_score, f1_score\n",
    "\n",
    "y_pred = rfc.predict(X_test_scaled)\n",
    "accuracy = accuracy_score(y_test, y_pred)\n",
    "precision = precision_score(y_test, y_pred)\n",
    "recall = recall_score(y_test, y_pred)\n",
    "f1 = f1_score(y_test, y_pred)\n",
    "\n",
    "print('Accuracy:', accuracy)\n",
    "print('Precision:', precision)\n",
    "print('Recall:', recall)\n",
    "print('F1-score:', f1)\n",
    "\n",
    "# Step 7: Plot the feature importances\n",
    "import matplotlib.pyplot as plt\n",
    "\n",
    "feature_importances = rfc.feature_importances_\n",
    "feature_names = X.columns\n",
    "plt.bar(feature_names, feature_importances)\n",
    "plt.title('Feature Importances')\n",
    "plt.xlabel('Features')\n",
    "plt.ylabel('Importance')\n",
    "plt.show()"
   ]
  },
  {
   "cell_type": "code",
   "execution_count": 26,
   "id": "9fb989a2",
   "metadata": {},
   "outputs": [],
   "source": [
    "# Step 8: Build a predictive system to predict whether a given input corresponds to wrong side driving\n",
    "def predict_wrong_side_driving(longitude, latitude, direction):\n",
    "    input_data = [[longitude, latitude, direction]]\n",
    "    input_data_scaled = scaler.transform(input_data)\n",
    "    prediction = rfc.predict(input_data_scaled)\n",
    "    if prediction[0] == 1:\n",
    "        return 'Not Wrong Side Driving.'\n",
    "    else:\n",
    "        return 'Wrong Side Driving.'"
   ]
  },
  {
   "cell_type": "code",
   "execution_count": 31,
   "id": "6f1b4ad2",
   "metadata": {},
   "outputs": [
    {
     "name": "stdout",
     "output_type": "stream",
     "text": [
      "Not Wrong Side Driving.\n"
     ]
    },
    {
     "name": "stderr",
     "output_type": "stream",
     "text": [
      "C:\\ProgramData\\Anaconda3\\lib\\site-packages\\sklearn\\base.py:450: UserWarning: X does not have valid feature names, but StandardScaler was fitted with feature names\n",
      "  warnings.warn(\n"
     ]
    }
   ],
   "source": [
    "print(predict_wrong_side_driving(25.07551551,89.36312295,52.2570399))"
   ]
  },
  {
   "cell_type": "code",
   "execution_count": 22,
   "id": "d5d37ae8",
   "metadata": {},
   "outputs": [
    {
     "name": "stdout",
     "output_type": "stream",
     "text": [
      "Confusion Matrix:\n",
      "[[39 12]\n",
      " [ 6 23]]\n"
     ]
    }
   ],
   "source": [
    "from sklearn.metrics import confusion_matrix\n",
    "\n",
    "# Get the confusion matrix for the predictions\n",
    "cm = confusion_matrix(y_test, y_pred)\n",
    "\n",
    "# Print the confusion matrix\n",
    "print(\"Confusion Matrix:\")\n",
    "print(cm)\n"
   ]
  },
  {
   "cell_type": "code",
   "execution_count": null,
   "id": "05f0b720",
   "metadata": {},
   "outputs": [],
   "source": []
  }
 ],
 "metadata": {
  "kernelspec": {
   "display_name": "Python 3 (ipykernel)",
   "language": "python",
   "name": "python3"
  },
  "language_info": {
   "codemirror_mode": {
    "name": "ipython",
    "version": 3
   },
   "file_extension": ".py",
   "mimetype": "text/x-python",
   "name": "python",
   "nbconvert_exporter": "python",
   "pygments_lexer": "ipython3",
   "version": "3.9.13"
  }
 },
 "nbformat": 4,
 "nbformat_minor": 5
}
